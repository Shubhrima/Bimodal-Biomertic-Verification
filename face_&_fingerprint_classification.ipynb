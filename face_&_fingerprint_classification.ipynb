{
  "metadata": {
    "kernelspec": {
      "language": "python",
      "display_name": "Python 3",
      "name": "python3"
    },
    "language_info": {
      "name": "python",
      "version": "3.6.6",
      "mimetype": "text/x-python",
      "codemirror_mode": {
        "name": "ipython",
        "version": 3
      },
      "pygments_lexer": "ipython3",
      "nbconvert_exporter": "python",
      "file_extension": ".py"
    },
    "colab": {
      "provenance": []
    }
  },
  "nbformat_minor": 0,
  "nbformat": 4,
  "cells": [
    {
      "cell_type": "code",
      "source": [
        "import numpy as np # linear algebra\n",
        "import pandas as pd # data processing, CSV file I/O (e.g. pd.read_csv)\n",
        "import cv2 # opencv\n",
        "from mtcnn.mtcnn import MTCNN\n",
        "from matplotlib import pyplot as plt\n",
        "from keras.models import load_model\n",
        "from PIL import Image\n",
        "\n",
        "# Input data files are available in the \"../input/\" directory.\n",
        "# For example, running this (by clicking run or pressing Shift+Enter) will list the files in the input directory\n",
        "\n",
        "import os\n",
        "print(os.listdir(\"../input\"))\n",
        "\n",
        "# Any results you write to the current directory are saved as output."
      ],
      "metadata": {
        "_uuid": "8f2839f25d086af736a60e9eeb907d3b93b6e0e5",
        "_cell_guid": "b1076dfc-b9ad-4769-8c92-a6c4dae69d19",
        "execution": {
          "iopub.status.busy": "2022-11-19T11:28:33.578405Z",
          "iopub.execute_input": "2022-11-19T11:28:33.578869Z",
          "iopub.status.idle": "2022-11-19T11:28:33.586979Z",
          "shell.execute_reply.started": "2022-11-19T11:28:33.578807Z",
          "shell.execute_reply": "2022-11-19T11:28:33.585722Z"
        },
        "trusted": true,
        "id": "-WNqnF_PUri5",
        "outputId": "f6c11d4d-1162-49ff-eb05-80c6e3f25d52"
      },
      "execution_count": null,
      "outputs": [
        {
          "name": "stdout",
          "text": "['facenet-keras', '5-celebrity-faces-dataset', 'face-model']\n",
          "output_type": "stream"
        }
      ]
    },
    {
      "cell_type": "code",
      "source": [
        "# load the facenet model\n",
        "facenet_model = load_model('../input/facenet-keras/facenet_keras.h5')\n",
        "print('Loaded Model')"
      ],
      "metadata": {
        "execution": {
          "iopub.status.busy": "2022-11-19T11:28:33.588886Z",
          "iopub.execute_input": "2022-11-19T11:28:33.589202Z",
          "iopub.status.idle": "2022-11-19T11:29:04.731012Z",
          "shell.execute_reply.started": "2022-11-19T11:28:33.589130Z",
          "shell.execute_reply": "2022-11-19T11:29:04.730177Z"
        },
        "trusted": true,
        "id": "sMd1h5lFUrjK",
        "outputId": "b399b7a2-f874-4074-b888-fd89fbdc0fc6"
      },
      "execution_count": null,
      "outputs": [
        {
          "name": "stdout",
          "text": "Loaded Model\n",
          "output_type": "stream"
        },
        {
          "name": "stderr",
          "text": "/opt/conda/lib/python3.6/site-packages/keras/engine/saving.py:292: UserWarning: No training configuration found in save file: the model was *not* compiled. Compile it manually.\n  warnings.warn('No training configuration found in save file: '\n",
          "output_type": "stream"
        }
      ]
    },
    {
      "cell_type": "code",
      "source": [
        "from joblib import dump, load"
      ],
      "metadata": {
        "execution": {
          "iopub.status.busy": "2022-11-19T11:29:04.732601Z",
          "iopub.execute_input": "2022-11-19T11:29:04.732917Z",
          "iopub.status.idle": "2022-11-19T11:29:04.737981Z",
          "shell.execute_reply.started": "2022-11-19T11:29:04.732857Z",
          "shell.execute_reply": "2022-11-19T11:29:04.736648Z"
        },
        "trusted": true,
        "id": "7mloHqsGUrjN"
      },
      "execution_count": null,
      "outputs": []
    },
    {
      "cell_type": "code",
      "source": [
        "loaded_model = load('../input/face-model/facemodel.joblib')"
      ],
      "metadata": {
        "execution": {
          "iopub.status.busy": "2022-11-19T11:29:04.739085Z",
          "iopub.execute_input": "2022-11-19T11:29:04.739330Z",
          "iopub.status.idle": "2022-11-19T11:29:04.758379Z",
          "shell.execute_reply.started": "2022-11-19T11:29:04.739284Z",
          "shell.execute_reply": "2022-11-19T11:29:04.756787Z"
        },
        "trusted": true,
        "id": "sJrzBp_GUrjP"
      },
      "execution_count": null,
      "outputs": []
    },
    {
      "cell_type": "code",
      "source": [
        "from sklearn.preprocessing import LabelEncoder"
      ],
      "metadata": {
        "execution": {
          "iopub.status.busy": "2022-11-19T11:29:04.759669Z",
          "iopub.execute_input": "2022-11-19T11:29:04.759927Z",
          "iopub.status.idle": "2022-11-19T11:29:04.765234Z",
          "shell.execute_reply.started": "2022-11-19T11:29:04.759879Z",
          "shell.execute_reply": "2022-11-19T11:29:04.764045Z"
        },
        "trusted": true,
        "id": "wsKZKZG1UrjS"
      },
      "execution_count": null,
      "outputs": []
    },
    {
      "cell_type": "code",
      "source": [
        "## Load the trained LabelEncoder and SVM model\n",
        "out_encoder=LabelEncoder()\n",
        "loaded_encoder = out_encoder\n",
        "loaded_predictor = loaded_model\n",
        "loaded_facenet = facenet_model"
      ],
      "metadata": {
        "execution": {
          "iopub.status.busy": "2022-11-19T11:29:04.766642Z",
          "iopub.execute_input": "2022-11-19T11:29:04.766965Z",
          "iopub.status.idle": "2022-11-19T11:29:04.777457Z",
          "shell.execute_reply.started": "2022-11-19T11:29:04.766911Z",
          "shell.execute_reply": "2022-11-19T11:29:04.776101Z"
        },
        "trusted": true,
        "id": "aMSVvN3GUrjU"
      },
      "execution_count": null,
      "outputs": []
    },
    {
      "cell_type": "code",
      "source": [
        "labels=['ben_afflek', 'elton_john', 'jerry_seinfeld', 'madonna',\n",
        "       'mindy_kaling']"
      ],
      "metadata": {
        "execution": {
          "iopub.status.busy": "2022-11-19T11:29:04.779771Z",
          "iopub.execute_input": "2022-11-19T11:29:04.780186Z",
          "iopub.status.idle": "2022-11-19T11:29:04.791662Z",
          "shell.execute_reply.started": "2022-11-19T11:29:04.780111Z",
          "shell.execute_reply": "2022-11-19T11:29:04.789978Z"
        },
        "trusted": true,
        "id": "_ml3gbJTUrjW"
      },
      "execution_count": null,
      "outputs": []
    },
    {
      "cell_type": "code",
      "source": [
        "loaded_encoder.fit(labels)"
      ],
      "metadata": {
        "execution": {
          "iopub.status.busy": "2022-11-19T11:29:04.793040Z",
          "iopub.execute_input": "2022-11-19T11:29:04.793358Z",
          "iopub.status.idle": "2022-11-19T11:29:04.806571Z",
          "shell.execute_reply.started": "2022-11-19T11:29:04.793299Z",
          "shell.execute_reply": "2022-11-19T11:29:04.805478Z"
        },
        "trusted": true,
        "id": "vFBekMI4Urja",
        "outputId": "09087585-5282-4378-92c4-91a2df5b59a0"
      },
      "execution_count": null,
      "outputs": [
        {
          "execution_count": 44,
          "output_type": "execute_result",
          "data": {
            "text/plain": "LabelEncoder()"
          },
          "metadata": {}
        }
      ]
    },
    {
      "cell_type": "code",
      "source": [
        "loaded_encoder.classes_"
      ],
      "metadata": {
        "execution": {
          "iopub.status.busy": "2022-11-19T11:29:04.808001Z",
          "iopub.execute_input": "2022-11-19T11:29:04.808241Z",
          "iopub.status.idle": "2022-11-19T11:29:04.819108Z",
          "shell.execute_reply.started": "2022-11-19T11:29:04.808203Z",
          "shell.execute_reply": "2022-11-19T11:29:04.818061Z"
        },
        "trusted": true,
        "id": "QosRSmAnUrjd",
        "outputId": "ac289deb-c8a5-49ee-ca5f-dccecff21f18"
      },
      "execution_count": null,
      "outputs": [
        {
          "execution_count": 45,
          "output_type": "execute_result",
          "data": {
            "text/plain": "array(['ben_afflek', 'elton_john', 'jerry_seinfeld', 'madonna',\n       'mindy_kaling'], dtype='<U14')"
          },
          "metadata": {}
        }
      ]
    },
    {
      "cell_type": "code",
      "source": [
        "# Function to get the face embedding for one face\n",
        "def get_embedding(model, face_pixels):\n",
        "    # scale pixel values\n",
        "    face_pixels = face_pixels.astype('float32')\n",
        "    # standardize pixel values across channels (global)\n",
        "    mean, std = face_pixels.mean(), face_pixels.std()\n",
        "    face_pixels = (face_pixels - mean) / std\n",
        "    # transform face into one sample\n",
        "    samples = np.expand_dims(face_pixels, axis=0)\n",
        "    # make prediction to get embedding\n",
        "    yhat = model.predict(samples)\n",
        "    return yhat[0]"
      ],
      "metadata": {
        "execution": {
          "iopub.status.busy": "2022-11-19T11:29:04.820591Z",
          "iopub.execute_input": "2022-11-19T11:29:04.820905Z",
          "iopub.status.idle": "2022-11-19T11:29:04.829200Z",
          "shell.execute_reply.started": "2022-11-19T11:29:04.820853Z",
          "shell.execute_reply": "2022-11-19T11:29:04.828465Z"
        },
        "trusted": true,
        "id": "LwJmHd3hUrjh"
      },
      "execution_count": null,
      "outputs": []
    },
    {
      "cell_type": "code",
      "source": [
        "# Single Function capable to process input image and return the bounding box dimensions and the prediction\n",
        "def face_recognize(image):\n",
        "    ## Extract the face and bounding box dimensions from the image by using pretrained MTCNN model\n",
        "    faces, box_dimensions = extract_face(image_pixels=image)\n",
        "    X = np.asarray(faces)\n",
        "    ## Get the Face Embeddings for the extracted face pixels and store as numpy array\n",
        "    embedding = get_embedding(loaded_facenet, X)\n",
        "    X = []\n",
        "    X.append(embedding)\n",
        "    X = np.asarray(X)\n",
        "    ## Predict label for the face by using the pretrained models\n",
        "    prediction = loaded_predictor.predict(X)\n",
        "    predicted_label = loaded_encoder.inverse_transform([prediction])\n",
        "    return predicted_label[0], box_dimensions"
      ],
      "metadata": {
        "execution": {
          "iopub.status.busy": "2022-11-19T11:29:04.830157Z",
          "iopub.execute_input": "2022-11-19T11:29:04.830483Z",
          "iopub.status.idle": "2022-11-19T11:29:04.840900Z",
          "shell.execute_reply.started": "2022-11-19T11:29:04.830415Z",
          "shell.execute_reply": "2022-11-19T11:29:04.840000Z"
        },
        "trusted": true,
        "id": "hI0uwnFVUrjj"
      },
      "execution_count": null,
      "outputs": []
    },
    {
      "cell_type": "code",
      "source": [
        "def extract_face(filename=None, image_pixels=None, required_size=(160, 160)):\n",
        "    if filename is not None:\n",
        "        image = Image.open(filename)\n",
        "        image = image.convert('RGB')\n",
        "        pixels = np.asarray(image)\n",
        "    elif image_pixels is not None:\n",
        "        pixels = image_pixels\n",
        "    detector = MTCNN()\n",
        "    results = detector.detect_faces(pixels)\n",
        "    x1, y1, width, height = results[0]['box']\n",
        "    x1, y1 = abs(x1), abs(y1)\n",
        "    x2, y2 = x1 + width, y1 + height\n",
        "    face = pixels[y1:y2, x1:x2]\n",
        "    box_dimensions = (x1, y1, width, height)\n",
        "    image = Image.fromarray(face)\n",
        "    image = image.resize(required_size)\n",
        "    face_array = np.asarray(image)\n",
        "    return face_array, box_dimensions"
      ],
      "metadata": {
        "execution": {
          "iopub.status.busy": "2022-11-19T11:29:04.842234Z",
          "iopub.execute_input": "2022-11-19T11:29:04.842679Z",
          "iopub.status.idle": "2022-11-19T11:29:04.858841Z",
          "shell.execute_reply.started": "2022-11-19T11:29:04.842560Z",
          "shell.execute_reply": "2022-11-19T11:29:04.857494Z"
        },
        "trusted": true,
        "id": "5Su0RpWgUrjm"
      },
      "execution_count": null,
      "outputs": []
    },
    {
      "cell_type": "code",
      "source": [
        "## Testing the model with the random image\n",
        "filename = '../input/5-celebrity-faces-dataset/val/madonna/httpcdncdnjustjaredcomwpcontentuploadsheadlinesmadonnatalksparisattackstearsjpg.jpg'\n",
        "image = Image.open(filename)\n",
        "image = image.convert('RGB')\n",
        "pixels = np.asarray(image)\n",
        "face_recognize(pixels)"
      ],
      "metadata": {
        "execution": {
          "iopub.status.busy": "2022-11-19T11:29:04.860797Z",
          "iopub.execute_input": "2022-11-19T11:29:04.861116Z",
          "iopub.status.idle": "2022-11-19T11:29:25.723604Z",
          "shell.execute_reply.started": "2022-11-19T11:29:04.861065Z",
          "shell.execute_reply": "2022-11-19T11:29:25.722708Z"
        },
        "trusted": true,
        "id": "lvxkYt20Urjo",
        "outputId": "d78666b8-19d9-4f14-d639-d737dc7571f3"
      },
      "execution_count": null,
      "outputs": [
        {
          "name": "stderr",
          "text": "/opt/conda/lib/python3.6/site-packages/sklearn/preprocessing/label.py:273: DataConversionWarning: A column-vector y was passed when a 1d array was expected. Please change the shape of y to (n_samples, ), for example using ravel().\n  y = column_or_1d(y, warn=True)\n",
          "output_type": "stream"
        },
        {
          "execution_count": 49,
          "output_type": "execute_result",
          "data": {
            "text/plain": "('madonna', (98, 44, 95, 131))"
          },
          "metadata": {}
        }
      ]
    },
    {
      "cell_type": "code",
      "source": [
        "import tensorflow as tf\n",
        "\n",
        "\n",
        "def load_model():\n",
        "  model=tf.keras.models.load_model('/content/drive/MyDrive/fingerprint_model.h5')\n",
        "  return model\n",
        "\n",
        "model=load_model()\n",
        "\n",
        "\n",
        "file = (\"/content/3__M_Left_index_finger.BMP\")\n",
        "import cv2\n",
        "from PIL import Image, ImageOps\n",
        "import numpy as np\n",
        "\n",
        "classes = ['ben_afflek','elton_john','jerry_seinfeld', 'madonna','mindy_kaling']\n",
        "\n",
        "def import_and_predict(image_data, model):\n",
        "    \n",
        "        img_size=(224,224)\n",
        "        #image = ImageOps.fit(image_data, img_size, Image.ANTIALIAS)\n",
        "        img = np.expand_dims(image_data, axis=0)\n",
        "    \n",
        "        prediction = model.predict(img)\n",
        "        \n",
        "        return prediction\n",
        "\n",
        "\n",
        "img = cv2.imread(file)     \n",
        "img = cv2.resize(img,(224,224))\n",
        "images_arr = np.asarray(img)\n",
        "images_arr = images_arr.astype('float32')\n",
        "images_arr = images_arr.reshape(-1, 224,224, 1)\n",
        "predictions = import_and_predict(img, model)\n",
        "score = tf.nn.softmax(predictions[0])\n",
        "index = np.argmax(predictions[0])\n",
        "predicted_class = classes[index]\n",
        "probability = predictions[0][index]*100\n",
        "print(\"This fingerprint belongs to \",predicted_class,\" with a \",probability,\" percent confidence.\")\n"
      ],
      "metadata": {
        "colab": {
          "base_uri": "https://localhost:8080/"
        },
        "id": "KDr5wM3wUuxo",
        "outputId": "ad756410-8d99-4b9b-ae19-9ddd1716c240"
      },
      "execution_count": null,
      "outputs": [
        {
          "output_type": "stream",
          "name": "stdout",
          "text": [
            "1/1 [==============================] - 2s 2s/step\n",
            "This fingerprint belongs to  madonna  with a  100.0  percent confidence.\n"
          ]
        }
      ]
    }
  ]
}